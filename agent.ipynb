{
 "cells": [
  {
   "cell_type": "code",
   "execution_count": 8,
   "metadata": {},
   "outputs": [
    {
     "name": "stdout",
     "output_type": "stream",
     "text": [
      "Requirement already satisfied: langgraph in .\\agent\\lib\\site-packages (0.3.5)\n",
      "Collecting langgraph\n",
      "  Downloading langgraph-0.3.8-py3-none-any.whl (133 kB)\n",
      "     ---------------------------------------- 0.0/133.6 kB ? eta -:--:--\n",
      "     -------- ---------------------------- 30.7/133.6 kB 640.0 kB/s eta 0:00:01\n",
      "     -------- ---------------------------- 30.7/133.6 kB 640.0 kB/s eta 0:00:01\n",
      "     ----------------- ------------------- 61.4/133.6 kB 363.1 kB/s eta 0:00:01\n",
      "     ------------------------- ----------- 92.2/133.6 kB 476.3 kB/s eta 0:00:01\n",
      "     ------------------------- ----------- 92.2/133.6 kB 476.3 kB/s eta 0:00:01\n",
      "     ------------------------------------ 133.6/133.6 kB 463.7 kB/s eta 0:00:00\n",
      "Requirement already satisfied: langchain_google_genai in .\\agent\\lib\\site-packages (2.0.11)\n",
      "Requirement already satisfied: langgraph-checkpoint<3.0.0,>=2.0.10 in .\\agent\\lib\\site-packages (from langgraph) (2.0.18)\n",
      "Requirement already satisfied: langgraph-prebuilt<0.2,>=0.1.1 in .\\agent\\lib\\site-packages (from langgraph) (0.1.2)\n",
      "Requirement already satisfied: langchain-core<0.4,>=0.1 in .\\agent\\lib\\site-packages (from langgraph) (0.3.43)\n",
      "Requirement already satisfied: langgraph-sdk<0.2.0,>=0.1.42 in .\\agent\\lib\\site-packages (from langgraph) (0.1.55)\n",
      "Requirement already satisfied: pydantic<3,>=2 in .\\agent\\lib\\site-packages (from langchain_google_genai) (2.10.6)\n",
      "Requirement already satisfied: filetype<2.0.0,>=1.2.0 in .\\agent\\lib\\site-packages (from langchain_google_genai) (1.2.0)\n",
      "Requirement already satisfied: google-ai-generativelanguage<0.7.0,>=0.6.16 in .\\agent\\lib\\site-packages (from langchain_google_genai) (0.6.16)\n",
      "Requirement already satisfied: google-api-core[grpc]!=2.0.*,!=2.1.*,!=2.10.*,!=2.2.*,!=2.3.*,!=2.4.*,!=2.5.*,!=2.6.*,!=2.7.*,!=2.8.*,!=2.9.*,<3.0.0dev,>=1.34.1 in .\\agent\\lib\\site-packages (from google-ai-generativelanguage<0.7.0,>=0.6.16->langchain_google_genai) (2.24.1)\n",
      "Requirement already satisfied: protobuf!=4.21.0,!=4.21.1,!=4.21.2,!=4.21.3,!=4.21.4,!=4.21.5,<6.0.0dev,>=3.20.2 in .\\agent\\lib\\site-packages (from google-ai-generativelanguage<0.7.0,>=0.6.16->langchain_google_genai) (5.29.3)\n",
      "Requirement already satisfied: proto-plus<2.0.0dev,>=1.22.3 in .\\agent\\lib\\site-packages (from google-ai-generativelanguage<0.7.0,>=0.6.16->langchain_google_genai) (1.26.0)\n",
      "Requirement already satisfied: google-auth!=2.24.0,!=2.25.0,<3.0.0dev,>=2.14.1 in .\\agent\\lib\\site-packages (from google-ai-generativelanguage<0.7.0,>=0.6.16->langchain_google_genai) (2.38.0)\n",
      "Requirement already satisfied: tenacity!=8.4.0,<10.0.0,>=8.1.0 in .\\agent\\lib\\site-packages (from langchain-core<0.4,>=0.1->langgraph) (9.0.0)\n",
      "Requirement already satisfied: PyYAML>=5.3 in .\\agent\\lib\\site-packages (from langchain-core<0.4,>=0.1->langgraph) (6.0.2)\n",
      "Requirement already satisfied: typing-extensions>=4.7 in .\\agent\\lib\\site-packages (from langchain-core<0.4,>=0.1->langgraph) (4.12.2)\n",
      "Requirement already satisfied: jsonpatch<2.0,>=1.33 in .\\agent\\lib\\site-packages (from langchain-core<0.4,>=0.1->langgraph) (1.33)\n",
      "Requirement already satisfied: packaging<25,>=23.2 in .\\agent\\lib\\site-packages (from langchain-core<0.4,>=0.1->langgraph) (24.2)\n",
      "Requirement already satisfied: langsmith<0.4,>=0.1.125 in .\\agent\\lib\\site-packages (from langchain-core<0.4,>=0.1->langgraph) (0.3.13)\n",
      "Requirement already satisfied: msgpack<2.0.0,>=1.1.0 in .\\agent\\lib\\site-packages (from langgraph-checkpoint<3.0.0,>=2.0.10->langgraph) (1.1.0)\n",
      "Requirement already satisfied: orjson>=3.10.1 in .\\agent\\lib\\site-packages (from langgraph-sdk<0.2.0,>=0.1.42->langgraph) (3.10.15)\n",
      "Requirement already satisfied: httpx>=0.25.2 in .\\agent\\lib\\site-packages (from langgraph-sdk<0.2.0,>=0.1.42->langgraph) (0.28.1)\n",
      "Requirement already satisfied: annotated-types>=0.6.0 in .\\agent\\lib\\site-packages (from pydantic<3,>=2->langchain_google_genai) (0.7.0)\n",
      "Requirement already satisfied: pydantic-core==2.27.2 in .\\agent\\lib\\site-packages (from pydantic<3,>=2->langchain_google_genai) (2.27.2)\n",
      "Requirement already satisfied: requests<3.0.0.dev0,>=2.18.0 in .\\agent\\lib\\site-packages (from google-api-core[grpc]!=2.0.*,!=2.1.*,!=2.10.*,!=2.2.*,!=2.3.*,!=2.4.*,!=2.5.*,!=2.6.*,!=2.7.*,!=2.8.*,!=2.9.*,<3.0.0dev,>=1.34.1->google-ai-generativelanguage<0.7.0,>=0.6.16->langchain_google_genai) (2.32.3)\n",
      "Requirement already satisfied: googleapis-common-protos<2.0.dev0,>=1.56.2 in .\\agent\\lib\\site-packages (from google-api-core[grpc]!=2.0.*,!=2.1.*,!=2.10.*,!=2.2.*,!=2.3.*,!=2.4.*,!=2.5.*,!=2.6.*,!=2.7.*,!=2.8.*,!=2.9.*,<3.0.0dev,>=1.34.1->google-ai-generativelanguage<0.7.0,>=0.6.16->langchain_google_genai) (1.69.1)\n",
      "Requirement already satisfied: grpcio<2.0dev,>=1.33.2 in .\\agent\\lib\\site-packages (from google-api-core[grpc]!=2.0.*,!=2.1.*,!=2.10.*,!=2.2.*,!=2.3.*,!=2.4.*,!=2.5.*,!=2.6.*,!=2.7.*,!=2.8.*,!=2.9.*,<3.0.0dev,>=1.34.1->google-ai-generativelanguage<0.7.0,>=0.6.16->langchain_google_genai) (1.70.0)\n",
      "Requirement already satisfied: grpcio-status<2.0.dev0,>=1.33.2 in .\\agent\\lib\\site-packages (from google-api-core[grpc]!=2.0.*,!=2.1.*,!=2.10.*,!=2.2.*,!=2.3.*,!=2.4.*,!=2.5.*,!=2.6.*,!=2.7.*,!=2.8.*,!=2.9.*,<3.0.0dev,>=1.34.1->google-ai-generativelanguage<0.7.0,>=0.6.16->langchain_google_genai) (1.70.0)\n",
      "Requirement already satisfied: rsa<5,>=3.1.4 in .\\agent\\lib\\site-packages (from google-auth!=2.24.0,!=2.25.0,<3.0.0dev,>=2.14.1->google-ai-generativelanguage<0.7.0,>=0.6.16->langchain_google_genai) (4.9)\n",
      "Requirement already satisfied: pyasn1-modules>=0.2.1 in .\\agent\\lib\\site-packages (from google-auth!=2.24.0,!=2.25.0,<3.0.0dev,>=2.14.1->google-ai-generativelanguage<0.7.0,>=0.6.16->langchain_google_genai) (0.4.1)\n",
      "Requirement already satisfied: cachetools<6.0,>=2.0.0 in .\\agent\\lib\\site-packages (from google-auth!=2.24.0,!=2.25.0,<3.0.0dev,>=2.14.1->google-ai-generativelanguage<0.7.0,>=0.6.16->langchain_google_genai) (5.5.2)\n",
      "Requirement already satisfied: httpcore==1.* in .\\agent\\lib\\site-packages (from httpx>=0.25.2->langgraph-sdk<0.2.0,>=0.1.42->langgraph) (1.0.7)\n",
      "Requirement already satisfied: anyio in .\\agent\\lib\\site-packages (from httpx>=0.25.2->langgraph-sdk<0.2.0,>=0.1.42->langgraph) (4.8.0)\n",
      "Requirement already satisfied: idna in .\\agent\\lib\\site-packages (from httpx>=0.25.2->langgraph-sdk<0.2.0,>=0.1.42->langgraph) (3.10)\n",
      "Requirement already satisfied: certifi in .\\agent\\lib\\site-packages (from httpx>=0.25.2->langgraph-sdk<0.2.0,>=0.1.42->langgraph) (2025.1.31)\n",
      "Requirement already satisfied: h11<0.15,>=0.13 in .\\agent\\lib\\site-packages (from httpcore==1.*->httpx>=0.25.2->langgraph-sdk<0.2.0,>=0.1.42->langgraph) (0.14.0)\n",
      "Requirement already satisfied: jsonpointer>=1.9 in .\\agent\\lib\\site-packages (from jsonpatch<2.0,>=1.33->langchain-core<0.4,>=0.1->langgraph) (3.0.0)\n",
      "Requirement already satisfied: zstandard<0.24.0,>=0.23.0 in .\\agent\\lib\\site-packages (from langsmith<0.4,>=0.1.125->langchain-core<0.4,>=0.1->langgraph) (0.23.0)\n",
      "Requirement already satisfied: requests-toolbelt<2.0.0,>=1.0.0 in .\\agent\\lib\\site-packages (from langsmith<0.4,>=0.1.125->langchain-core<0.4,>=0.1->langgraph) (1.0.0)\n",
      "Requirement already satisfied: pyasn1<0.7.0,>=0.4.6 in .\\agent\\lib\\site-packages (from pyasn1-modules>=0.2.1->google-auth!=2.24.0,!=2.25.0,<3.0.0dev,>=2.14.1->google-ai-generativelanguage<0.7.0,>=0.6.16->langchain_google_genai) (0.6.1)\n",
      "Requirement already satisfied: urllib3<3,>=1.21.1 in .\\agent\\lib\\site-packages (from requests<3.0.0.dev0,>=2.18.0->google-api-core[grpc]!=2.0.*,!=2.1.*,!=2.10.*,!=2.2.*,!=2.3.*,!=2.4.*,!=2.5.*,!=2.6.*,!=2.7.*,!=2.8.*,!=2.9.*,<3.0.0dev,>=1.34.1->google-ai-generativelanguage<0.7.0,>=0.6.16->langchain_google_genai) (2.3.0)\n",
      "Requirement already satisfied: charset-normalizer<4,>=2 in .\\agent\\lib\\site-packages (from requests<3.0.0.dev0,>=2.18.0->google-api-core[grpc]!=2.0.*,!=2.1.*,!=2.10.*,!=2.2.*,!=2.3.*,!=2.4.*,!=2.5.*,!=2.6.*,!=2.7.*,!=2.8.*,!=2.9.*,<3.0.0dev,>=1.34.1->google-ai-generativelanguage<0.7.0,>=0.6.16->langchain_google_genai) (3.4.1)\n",
      "Requirement already satisfied: exceptiongroup>=1.0.2 in .\\agent\\lib\\site-packages (from anyio->httpx>=0.25.2->langgraph-sdk<0.2.0,>=0.1.42->langgraph) (1.2.2)\n",
      "Requirement already satisfied: sniffio>=1.1 in .\\agent\\lib\\site-packages (from anyio->httpx>=0.25.2->langgraph-sdk<0.2.0,>=0.1.42->langgraph) (1.3.1)\n",
      "Installing collected packages: langgraph\n",
      "  Attempting uninstall: langgraph\n",
      "    Found existing installation: langgraph 0.3.5\n",
      "    Uninstalling langgraph-0.3.5:\n",
      "      Successfully uninstalled langgraph-0.3.5\n",
      "Successfully installed langgraph-0.3.8\n",
      "Note: you may need to restart the kernel to use updated packages.\n"
     ]
    },
    {
     "name": "stderr",
     "output_type": "stream",
     "text": [
      "\n",
      "[notice] A new release of pip is available: 23.0.1 -> 25.0.1\n",
      "[notice] To update, run: python.exe -m pip install --upgrade pip\n"
     ]
    }
   ],
   "source": [
    "%pip install -U langgraph langchain_google_genai "
   ]
  },
  {
   "cell_type": "code",
   "execution_count": 1,
   "metadata": {},
   "outputs": [],
   "source": [
    "from typing import TypedDict\n",
    "from langgraph.graph import StateGraph,START,END\n",
    "from IPython.display import Image\n",
    "\n",
    "class State(TypedDict):\n",
    "    state: str\n",
    "    \n",
    "class ReturnNodeValue():\n",
    "    def __init__(self,node_secret:str):\n",
    "        self._value = node_secret\n",
    "        \n",
    "    def __call__(self,state:State):\n",
    "        print(f\"Adding {self._value} to {state['state']}\")\n",
    "        return {\"state\":[self._value]}\n",
    "    \n",
    "builder = StateGraph(State)"
   ]
  },
  {
   "cell_type": "code",
   "execution_count": 2,
   "metadata": {},
   "outputs": [
    {
     "data": {
      "image/png": "[encoded data removed]",
      "text/plain": [
       "<IPython.core.display.Image object>"
      ]
     },
     "metadata": {},
     "output_type": "display_data"
    }
   ],
   "source": [
    "builder.add_node(\"a\",ReturnNodeValue(\"I'm A\"))\n",
    "builder.add_node(\"b\",ReturnNodeValue(\"I'm B\"))\n",
    "builder.add_node(\"c\",ReturnNodeValue(\"I'm C\"))\n",
    "builder.add_node(\"d\",ReturnNodeValue(\"I'm D\"))\n",
    "builder.add_node(\"e\",ReturnNodeValue(\"I'm E\"))\n",
    "\n",
    "\n",
    "builder.add_edge(START,\"a\")\n",
    "builder.add_edge(\"a\",\"b\")\n",
    "builder.add_edge(\"b\",\"c\")\n",
    "builder.add_edge(\"c\",\"d\")\n",
    "builder.add_edge(\"d\",\"e\")\n",
    "builder.add_edge(\"e\",END)\n",
    "\n",
    "graph = builder.compile()\n",
    "\n",
    "display(Image(graph.get_graph().draw_mermaid_png()))"
   ]
  },
  {
   "cell_type": "code",
   "execution_count": 3,
   "metadata": {},
   "outputs": [
    {
     "name": "stdout",
     "output_type": "stream",
     "text": [
      "Adding I'm A to []\n",
      "Adding I'm B to [\"I'm A\"]\n",
      "Adding I'm C to [\"I'm B\"]\n",
      "Adding I'm D to [\"I'm C\"]\n",
      "Adding I'm E to [\"I'm D\"]\n"
     ]
    },
    {
     "data": {
      "text/plain": [
       "{'state': [\"I'm E\"]}"
      ]
     },
     "execution_count": 3,
     "metadata": {},
     "output_type": "execute_result"
    }
   ],
   "source": [
    "graph.invoke({\"state\":[]})"
   ]
  },
  {
   "cell_type": "code",
   "execution_count": 4,
   "metadata": {},
   "outputs": [
    {
     "data": {
      "image/png": "[encoded data removed]",
      "text/plain": [
       "<IPython.core.display.Image object>"
      ]
     },
     "metadata": {},
     "output_type": "display_data"
    }
   ],
   "source": [
    "builder = StateGraph(State)\n",
    "\n",
    "\n",
    "builder.add_node(\"a\",ReturnNodeValue(\"I'm A\"))\n",
    "builder.add_node(\"b\",ReturnNodeValue(\"I'm B\"))\n",
    "builder.add_node(\"c\",ReturnNodeValue(\"I'm C\"))\n",
    "builder.add_node(\"d\",ReturnNodeValue(\"I'm D\"))\n",
    "builder.add_node(\"e\",ReturnNodeValue(\"I'm E\"))\n",
    "\n",
    "\n",
    "builder.add_edge(START,\"a\")\n",
    "builder.add_edge(\"a\",\"b\")\n",
    "builder.add_edge(\"a\",\"c\")\n",
    "builder.add_edge(\"c\",\"d\")\n",
    "builder.add_edge(\"b\",\"d\")\n",
    "builder.add_edge(\"d\",\"e\")\n",
    "builder.add_edge(\"e\",END)\n",
    "\n",
    "graph = builder.compile()\n",
    "\n",
    "display(Image(graph.get_graph().draw_mermaid_png()))"
   ]
  },
  {
   "cell_type": "code",
   "execution_count": 5,
   "metadata": {},
   "outputs": [],
   "source": [
    "import operator\n",
    "from typing import Annotated\n",
    "\n",
    "\n",
    "class State(TypedDict):\n",
    "    state: Annotated[list,operator.add]"
   ]
  },
  {
   "cell_type": "code",
   "execution_count": 6,
   "metadata": {},
   "outputs": [
    {
     "data": {
      "image/png": "[encoded data removed]",
      "text/plain": [
       "<IPython.core.display.Image object>"
      ]
     },
     "metadata": {},
     "output_type": "display_data"
    }
   ],
   "source": [
    "builder = StateGraph(State)\n",
    "\n",
    "\n",
    "builder.add_node(\"a\",ReturnNodeValue(\"I'm A\"))\n",
    "builder.add_node(\"b\",ReturnNodeValue(\"I'm B\"))\n",
    "builder.add_node(\"c\",ReturnNodeValue(\"I'm C\"))\n",
    "builder.add_node(\"d\",ReturnNodeValue(\"I'm D\"))\n",
    "builder.add_node(\"e\",ReturnNodeValue(\"I'm E\"))\n",
    "\n",
    "\n",
    "builder.add_edge(START,\"a\")\n",
    "builder.add_edge(\"a\",\"b\")\n",
    "builder.add_edge(\"a\",\"c\")\n",
    "builder.add_edge(\"c\",\"d\")\n",
    "builder.add_edge(\"b\",\"d\")\n",
    "builder.add_edge(\"d\",\"e\")\n",
    "builder.add_edge(\"e\",END)\n",
    "\n",
    "graph = builder.compile()\n",
    "\n",
    "display(Image(graph.get_graph().draw_mermaid_png()))"
   ]
  },
  {
   "cell_type": "code",
   "execution_count": 7,
   "metadata": {},
   "outputs": [
    {
     "name": "stdout",
     "output_type": "stream",
     "text": [
      "Adding I'm A to []\n",
      "Adding I'm B to [\"I'm A\"]\n",
      "Adding I'm C to [\"I'm A\"]\n",
      "Adding I'm D to [\"I'm A\", \"I'm B\", \"I'm C\"]\n",
      "Adding I'm E to [\"I'm A\", \"I'm B\", \"I'm C\", \"I'm D\"]\n"
     ]
    },
    {
     "data": {
      "text/plain": [
       "{'state': [\"I'm A\", \"I'm B\", \"I'm C\", \"I'm D\", \"I'm E\"]}"
      ]
     },
     "execution_count": 7,
     "metadata": {},
     "output_type": "execute_result"
    }
   ],
   "source": [
    "graph.invoke({\"state\":[]})\n"
   ]
  },
  {
   "cell_type": "code",
   "execution_count": null,
   "metadata": {},
   "outputs": [],
   "source": [
    "class State(TypedDict):\n",
    "    question:str\n",
    "    answer:str\n",
    "    context:Annotated[list,operator]"
   ]
  },
  {
   "cell_type": "code",
   "execution_count": 10,
   "metadata": {},
   "outputs": [],
   "source": [
    "import os, getpass\n",
    "\n",
    "def _set_env(var: str):\n",
    "    if not os.environ.get(var):\n",
    "        os.environ[var] = getpass.getpass(f\"{var}: \")\n",
    "        \n",
    "_set_env(\"TAVILY_API_KEY\")"
   ]
  },
  {
   "cell_type": "code",
   "execution_count": 22,
   "metadata": {},
   "outputs": [
    {
     "name": "stdout",
     "output_type": "stream",
     "text": [
      "Requirement already satisfied: langchain_community in .\\agent\\lib\\site-packages (0.3.19)\n",
      "Requirement already satisfied: aiohttp<4.0.0,>=3.8.3 in .\\agent\\lib\\site-packages (from langchain_community) (3.11.13)\n",
      "Requirement already satisfied: PyYAML>=5.3 in .\\agent\\lib\\site-packages (from langchain_community) (6.0.2)\n",
      "Requirement already satisfied: requests<3,>=2 in .\\agent\\lib\\site-packages (from langchain_community) (2.32.3)\n",
      "Requirement already satisfied: SQLAlchemy<3,>=1.4 in .\\agent\\lib\\site-packages (from langchain_community) (2.0.39)\n",
      "Requirement already satisfied: langsmith<0.4,>=0.1.125 in .\\agent\\lib\\site-packages (from langchain_community) (0.3.13)\n",
      "Requirement already satisfied: numpy<3,>=1.26.2 in .\\agent\\lib\\site-packages (from langchain_community) (2.2.3)\n",
      "Requirement already satisfied: dataclasses-json<0.7,>=0.5.7 in .\\agent\\lib\\site-packages (from langchain_community) (0.6.7)\n",
      "Requirement already satisfied: pydantic-settings<3.0.0,>=2.4.0 in .\\agent\\lib\\site-packages (from langchain_community) (2.8.1)\n",
      "Requirement already satisfied: tenacity!=8.4.0,<10,>=8.1.0 in .\\agent\\lib\\site-packages (from langchain_community) (9.0.0)\n",
      "Requirement already satisfied: langchain<1.0.0,>=0.3.20 in .\\agent\\lib\\site-packages (from langchain_community) (0.3.20)\n",
      "Requirement already satisfied: langchain-core<1.0.0,>=0.3.41 in .\\agent\\lib\\site-packages (from langchain_community) (0.3.43)\n",
      "Requirement already satisfied: httpx-sse<1.0.0,>=0.4.0 in .\\agent\\lib\\site-packages (from langchain_community) (0.4.0)\n",
      "Requirement already satisfied: propcache>=0.2.0 in .\\agent\\lib\\site-packages (from aiohttp<4.0.0,>=3.8.3->langchain_community) (0.3.0)\n",
      "Requirement already satisfied: aiosignal>=1.1.2 in .\\agent\\lib\\site-packages (from aiohttp<4.0.0,>=3.8.3->langchain_community) (1.3.2)\n",
      "Requirement already satisfied: async-timeout<6.0,>=4.0 in .\\agent\\lib\\site-packages (from aiohttp<4.0.0,>=3.8.3->langchain_community) (4.0.3)\n",
      "Requirement already satisfied: aiohappyeyeballs>=2.3.0 in .\\agent\\lib\\site-packages (from aiohttp<4.0.0,>=3.8.3->langchain_community) (2.6.1)\n",
      "Requirement already satisfied: multidict<7.0,>=4.5 in .\\agent\\lib\\site-packages (from aiohttp<4.0.0,>=3.8.3->langchain_community) (6.1.0)\n",
      "Requirement already satisfied: yarl<2.0,>=1.17.0 in .\\agent\\lib\\site-packages (from aiohttp<4.0.0,>=3.8.3->langchain_community) (1.18.3)\n",
      "Requirement already satisfied: frozenlist>=1.1.1 in .\\agent\\lib\\site-packages (from aiohttp<4.0.0,>=3.8.3->langchain_community) (1.5.0)\n",
      "Requirement already satisfied: attrs>=17.3.0 in .\\agent\\lib\\site-packages (from aiohttp<4.0.0,>=3.8.3->langchain_community) (25.1.0)\n",
      "Requirement already satisfied: marshmallow<4.0.0,>=3.18.0 in .\\agent\\lib\\site-packages (from dataclasses-json<0.7,>=0.5.7->langchain_community) (3.26.1)\n",
      "Requirement already satisfied: typing-inspect<1,>=0.4.0 in .\\agent\\lib\\site-packages (from dataclasses-json<0.7,>=0.5.7->langchain_community) (0.9.0)\n",
      "Requirement already satisfied: langchain-text-splitters<1.0.0,>=0.3.6 in .\\agent\\lib\\site-packages (from langchain<1.0.0,>=0.3.20->langchain_community) (0.3.6)\n",
      "Requirement already satisfied: pydantic<3.0.0,>=2.7.4 in .\\agent\\lib\\site-packages (from langchain<1.0.0,>=0.3.20->langchain_community) (2.10.6)\n",
      "Requirement already satisfied: packaging<25,>=23.2 in .\\agent\\lib\\site-packages (from langchain-core<1.0.0,>=0.3.41->langchain_community) (24.2)\n",
      "Requirement already satisfied: jsonpatch<2.0,>=1.33 in .\\agent\\lib\\site-packages (from langchain-core<1.0.0,>=0.3.41->langchain_community) (1.33)\n",
      "Requirement already satisfied: typing-extensions>=4.7 in .\\agent\\lib\\site-packages (from langchain-core<1.0.0,>=0.3.41->langchain_community) (4.12.2)\n",
      "Requirement already satisfied: zstandard<0.24.0,>=0.23.0 in .\\agent\\lib\\site-packages (from langsmith<0.4,>=0.1.125->langchain_community) (0.23.0)\n",
      "Requirement already satisfied: orjson<4.0.0,>=3.9.14 in .\\agent\\lib\\site-packages (from langsmith<0.4,>=0.1.125->langchain_community) (3.10.15)\n",
      "Requirement already satisfied: requests-toolbelt<2.0.0,>=1.0.0 in .\\agent\\lib\\site-packages (from langsmith<0.4,>=0.1.125->langchain_community) (1.0.0)\n",
      "Requirement already satisfied: httpx<1,>=0.23.0 in .\\agent\\lib\\site-packages (from langsmith<0.4,>=0.1.125->langchain_community) (0.28.1)\n",
      "Requirement already satisfied: python-dotenv>=0.21.0 in .\\agent\\lib\\site-packages (from pydantic-settings<3.0.0,>=2.4.0->langchain_community) (1.0.1)\n",
      "Requirement already satisfied: idna<4,>=2.5 in .\\agent\\lib\\site-packages (from requests<3,>=2->langchain_community) (3.10)\n",
      "Requirement already satisfied: charset-normalizer<4,>=2 in .\\agent\\lib\\site-packages (from requests<3,>=2->langchain_community) (3.4.1)\n",
      "Requirement already satisfied: certifi>=2017.4.17 in .\\agent\\lib\\site-packages (from requests<3,>=2->langchain_community) (2025.1.31)\n",
      "Requirement already satisfied: urllib3<3,>=1.21.1 in .\\agent\\lib\\site-packages (from requests<3,>=2->langchain_community) (2.3.0)\n",
      "Requirement already satisfied: greenlet!=0.4.17 in .\\agent\\lib\\site-packages (from SQLAlchemy<3,>=1.4->langchain_community) (3.1.1)\n",
      "Requirement already satisfied: httpcore==1.* in .\\agent\\lib\\site-packages (from httpx<1,>=0.23.0->langsmith<0.4,>=0.1.125->langchain_community) (1.0.7)\n",
      "Requirement already satisfied: anyio in .\\agent\\lib\\site-packages (from httpx<1,>=0.23.0->langsmith<0.4,>=0.1.125->langchain_community) (4.8.0)\n",
      "Requirement already satisfied: h11<0.15,>=0.13 in .\\agent\\lib\\site-packages (from httpcore==1.*->httpx<1,>=0.23.0->langsmith<0.4,>=0.1.125->langchain_community) (0.14.0)\n",
      "Requirement already satisfied: jsonpointer>=1.9 in .\\agent\\lib\\site-packages (from jsonpatch<2.0,>=1.33->langchain-core<1.0.0,>=0.3.41->langchain_community) (3.0.0)\n",
      "Requirement already satisfied: pydantic-core==2.27.2 in .\\agent\\lib\\site-packages (from pydantic<3.0.0,>=2.7.4->langchain<1.0.0,>=0.3.20->langchain_community) (2.27.2)\n",
      "Requirement already satisfied: annotated-types>=0.6.0 in .\\agent\\lib\\site-packages (from pydantic<3.0.0,>=2.7.4->langchain<1.0.0,>=0.3.20->langchain_community) (0.7.0)\n",
      "Requirement already satisfied: mypy-extensions>=0.3.0 in .\\agent\\lib\\site-packages (from typing-inspect<1,>=0.4.0->dataclasses-json<0.7,>=0.5.7->langchain_community) (1.0.0)\n",
      "Requirement already satisfied: exceptiongroup>=1.0.2 in .\\agent\\lib\\site-packages (from anyio->httpx<1,>=0.23.0->langsmith<0.4,>=0.1.125->langchain_community) (1.2.2)\n",
      "Requirement already satisfied: sniffio>=1.1 in .\\agent\\lib\\site-packages (from anyio->httpx<1,>=0.23.0->langsmith<0.4,>=0.1.125->langchain_community) (1.3.1)\n",
      "Note: you may need to restart the kernel to use updated packages.\n"
     ]
    },
    {
     "name": "stderr",
     "output_type": "stream",
     "text": [
      "\n",
      "[notice] A new release of pip is available: 23.0.1 -> 25.0.1\n",
      "[notice] To update, run: python.exe -m pip install --upgrade pip\n"
     ]
    },
    {
     "name": "stdout",
     "output_type": "stream",
     "text": [
      "Collecting wikipedia\n",
      "  Using cached wikipedia-1.4.0-py3-none-any.whl\n",
      "Requirement already satisfied: requests<3.0.0,>=2.0.0 in .\\agent\\lib\\site-packages (from wikipedia) (2.32.3)\n",
      "Requirement already satisfied: beautifulsoup4 in .\\agent\\lib\\site-packages (from wikipedia) (4.13.3)\n",
      "Requirement already satisfied: urllib3<3,>=1.21.1 in .\\agent\\lib\\site-packages (from requests<3.0.0,>=2.0.0->wikipedia) (2.3.0)\n",
      "Requirement already satisfied: idna<4,>=2.5 in .\\agent\\lib\\site-packages (from requests<3.0.0,>=2.0.0->wikipedia) (3.10)\n",
      "Requirement already satisfied: certifi>=2017.4.17 in .\\agent\\lib\\site-packages (from requests<3.0.0,>=2.0.0->wikipedia) (2025.1.31)\n",
      "Requirement already satisfied: charset-normalizer<4,>=2 in .\\agent\\lib\\site-packages (from requests<3.0.0,>=2.0.0->wikipedia) (3.4.1)\n",
      "Requirement already satisfied: typing-extensions>=4.0.0 in .\\agent\\lib\\site-packages (from beautifulsoup4->wikipedia) (4.12.2)\n",
      "Requirement already satisfied: soupsieve>1.2 in .\\agent\\lib\\site-packages (from beautifulsoup4->wikipedia) (2.6)\n",
      "Installing collected packages: wikipedia\n",
      "Successfully installed wikipedia-1.4.0\n",
      "Note: you may need to restart the kernel to use updated packages.\n"
     ]
    },
    {
     "name": "stderr",
     "output_type": "stream",
     "text": [
      "\n",
      "[notice] A new release of pip is available: 23.0.1 -> 25.0.1\n",
      "[notice] To update, run: python.exe -m pip install --upgrade pip\n"
     ]
    }
   ],
   "source": [
    "%pip install -U langchain_community\n",
    "%pip install wikipedia"
   ]
  },
  {
   "cell_type": "code",
   "execution_count": 23,
   "metadata": {},
   "outputs": [],
   "source": [
    "from langchain_google_genai import ChatGoogleGenerativeAI\n",
    "_set_env(\"GOOGLE_API_KEY\")\n",
    "llm = ChatGoogleGenerativeAI(model=\"gemini-1.5-flash\")"
   ]
  },
  {
   "cell_type": "code",
   "execution_count": 24,
   "metadata": {},
   "outputs": [],
   "source": [
    "from langchain_community.tools.tavily_search import TavilySearchResults\n",
    "from langchain_community.document_loaders import WikipediaLoader\n",
    "from langchain_core.messages import HumanMessage, SystemMessage\n",
    "def search_web(state):\n",
    "    tavily_search = TavilySearchResults(max_result=3)\n",
    "    search_docs = tavily_search.run(state[\"question\"])\n",
    "    \n",
    "    formatted_search_docs = \"\\n\\n---\\n\\n\".join([f'<Document href=\"{doc[\"url\"]}\"/>\\n{doc[\"content\"]}\\n</Document>' for doc in search_docs])\n",
    "    \n",
    "    return {\"context\":[formatted_search_docs]}\n",
    "\n",
    "def search_wikipedia(state):\n",
    "    search_docs = WikipediaLoader(query=state[\"question\"],load_max_docs=2).load()\n",
    "    \n",
    "    formatted_search_docs = \"\\n\\n---\\n\\n\".join([f'<Document source=\"{doc.metadata[\"source\"]}\" page=\"{doc.metadata.get(\"page\",\"\")}\"/>\\n{doc.page_content}\\n</Document>' for doc in search_docs])\n",
    "    return {\"context\":[formatted_search_docs]}\n",
    "\n",
    "def generate_answer(state):\n",
    "    context=state[\"context\"]\n",
    "    question=state[\"question\"]\n",
    "    \n",
    "    answer_template = \"\"\"Answer the question {question} using this context: {context}\"\"\"\n",
    "    answer_instructions = answer_template.format(question=question,context=context)\n",
    "    \n",
    "    answer = llm.invoke([SystemMessage(content=answer_instructions),HumanMessage(content=f\"Answer The Question\")])\n",
    "    return {\"answer\":answer}"
   ]
  },
  {
   "cell_type": "code",
   "execution_count": 25,
   "metadata": {},
   "outputs": [
    {
     "data": {
      "image/png": "[encoded data removed]",
      "text/plain": [
       "<IPython.core.display.Image object>"
      ]
     },
     "metadata": {},
     "output_type": "display_data"
    }
   ],
   "source": [
    "builder = StateGraph(State)\n",
    "\n",
    "builder.add_node(\"search_web\",search_web)\n",
    "builder.add_node(\"search_wikipedia\",search_wikipedia)\n",
    "builder.add_node(\"generate_answer\",generate_answer)\n",
    "\n",
    "builder.add_edge(START,\"search_web\")\n",
    "builder.add_edge(START,\"search_wikipedia\")\n",
    "\n",
    "builder.add_edge(\"search_web\",\"generate_answer\")\n",
    "builder.add_edge(\"search_wikipedia\",\"generate_answer\")\n",
    "builder.add_edge(\"generate_answer\",END)\n",
    "\n",
    "graph = builder.compile()\n",
    "\n",
    "display(Image(graph.get_graph().draw_mermaid_png()))"
   ]
  },
  {
   "cell_type": "code",
   "execution_count": 27,
   "metadata": {},
   "outputs": [
    {
     "data": {
      "text/plain": [
       "'Maxima Chan Zuckerberg was the first child of Mark Zuckerberg and Priscilla Chan.  She was born in December 2015.'"
      ]
     },
     "execution_count": 27,
     "metadata": {},
     "output_type": "execute_result"
    }
   ],
   "source": [
    "result = graph.invoke({\"question\":\"Who was the first child of zuckerburg\"})\n",
    "result['answer'].content"
   ]
  },
  {
   "cell_type": "code",
   "execution_count": null,
   "metadata": {},
   "outputs": [],
   "source": []
  }
 ],
 "metadata": {
  "kernelspec": {
   "display_name": "agent",
   "language": "python",
   "name": "python3"
  },
  "language_info": {
   "codemirror_mode": {
    "name": "ipython",
    "version": 3
   },
   "file_extension": ".py",
   "mimetype": "text/x-python",
   "name": "python",
   "nbconvert_exporter": "python",
   "pygments_lexer": "ipython3",
   "version": "3.10.11"
  }
 },
 "nbformat": 4,
 "nbformat_minor": 2
}
